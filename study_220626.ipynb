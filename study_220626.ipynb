{
 "cells": [
  {
   "cell_type": "code",
   "execution_count": null,
   "id": "8310192b",
   "metadata": {},
   "outputs": [],
   "source": [
    "# 물의 섭씨 또는 화씨 온도를 입력 받아 섭씨 온도와 물의\n",
    "# 상태를 판별하는 프로그램을 작성하시오.\n",
    "# 단, 화씨 온도가 입력될 경우에는 섭씨 온도로 변환한다.\n",
    "\n",
    "a = int(input(\"단위를 입력하세요(1: 섭씨, 2: 화씨)\"))\n",
    "b = int(input(\"온도를 입력하세요: \"))\n",
    "\n",
    "if a == 1:\n",
    "    if b >100:\n",
    "        c=\"기체\"\n",
    "    elif b < 0 :\n",
    "        c=\"고체\"\n",
    "    else :\n",
    "        c= \"액체\"\n",
    "    print(\"물의 섭씨 온도 : {}, 상태 : {}\".format(b,c))\n",
    "elif a== 2:\n",
    "    b = (b - 32) * 5 / 9\n",
    "    if b > 100:\n",
    "        c=\"기체\"\n",
    "    elif b < 0 :\n",
    "        c=\"고체\"\n",
    "    else :\n",
    "        c= \"액체\"\n",
    "    print(\"물의 섭씨 온도 : {}, 상태 : {}\".format(b,c))\n",
    "else:\n",
    "    print(\"오류\")\n",
    "\n",
    "\n"
   ]
  },
  {
   "cell_type": "code",
   "execution_count": null,
   "id": "e2cc2e1e",
   "metadata": {},
   "outputs": [],
   "source": [
    "a = input(\"단위를 입력하세요(1: 섭씨, 2: 화씨): \")\n",
    "b = int(input(\"온도를 입력하세요: \"))\n",
    "if a == \"1\":\n",
    "    if b <= 0:\n",
    "        print(\"물의 섭씨 온도 : {}, 상태 : 얼음\".format(b))\n",
    "    elif 0 < b < 100:\n",
    "        print(\"물의 섭씨 온도 : {}, 상태 : 액체\".format(b))\n",
    "    else:\n",
    "        print(\"물의 섭씨 온도 : {}, 상태 : 기체\".format(b))\n",
    "elif a == \"2\":\n",
    "    if b <= 0:\n",
    "        print(\"물의 섭씨 온도 : {}, 상태 : 얼음\".format(round((b-32)*5/9,2)))\n",
    "    elif 0 < b < 100:\n",
    "        print(\"물의 섭씨 온도 : {}, 상태 : 액체\".format(round((b-32)*5/9,2)))\n",
    "    else:\n",
    "        print(\"물의 섭씨 온도 : {}, 상태 : 기체\".format(round((b-32)*5/9,2)))\n"
   ]
  },
  {
   "cell_type": "code",
   "execution_count": null,
   "id": "b51fcc3b",
   "metadata": {},
   "outputs": [],
   "source": [
    "#피보나치 수열\n",
    "\n",
    "a=0\n",
    "b=1\n",
    "\n",
    "n = int(input(\"개수를 입력하세요: \"))\n",
    "lst=[]\n",
    "\n",
    "for i in range(n) :\n",
    "    lst.append(b)\n",
    "    #print(\"{}\".format(c)) # list 없이 출력\n",
    "    c=b\n",
    "    b=a+b\n",
    "    a=c\n",
    "print(\"{}\".format(lst))"
   ]
  },
  {
   "cell_type": "code",
   "execution_count": null,
   "id": "2e6fc6f8",
   "metadata": {},
   "outputs": [],
   "source": [
    "n = int(input())\n",
    "result = []\n",
    "for i in range(n):\n",
    "    if i < 2:\n",
    "        result.append(1)\n",
    "    else:\n",
    "        result.append(result[i-2] + result[i-1])\n",
    "print(result)"
   ]
  },
  {
   "cell_type": "code",
   "execution_count": null,
   "id": "8d059548",
   "metadata": {},
   "outputs": [],
   "source": [
    "# 약수\n",
    "\n",
    "n = int(input(\"숫자를 입력하세요: \"))\n",
    "\n",
    "for i in range(n+1) :\n",
    "    if i != 0 :\n",
    "        if n % i == 0 :\n",
    "            print(i)"
   ]
  },
  {
   "cell_type": "code",
   "execution_count": null,
   "id": "efb510b9",
   "metadata": {},
   "outputs": [],
   "source": [
    "n = int(input())\n",
    "result = []\n",
    "for i in range(1,n+1):\n",
    "    if n % i == 0 :\n",
    "        result.append(i)\n",
    "\n",
    "print(result)\n"
   ]
  },
  {
   "cell_type": "code",
   "execution_count": 7,
   "id": "6ff73a64",
   "metadata": {
    "scrolled": true
   },
   "outputs": [
    {
     "name": "stdout",
     "output_type": "stream",
     "text": [
      "5\n"
     ]
    },
    {
     "ename": "TypeError",
     "evalue": "'int' object is not iterable",
     "output_type": "error",
     "traceback": [
      "\u001b[1;31m---------------------------------------------------------------------------\u001b[0m",
      "\u001b[1;31mTypeError\u001b[0m                                 Traceback (most recent call last)",
      "Input \u001b[1;32mIn [7]\u001b[0m, in \u001b[0;36m<cell line: 3>\u001b[1;34m()\u001b[0m\n\u001b[0;32m      1\u001b[0m a \u001b[38;5;241m=\u001b[39m \u001b[38;5;28mint\u001b[39m(\u001b[38;5;28minput\u001b[39m())\n\u001b[0;32m      2\u001b[0m b \u001b[38;5;241m=\u001b[39m []\n\u001b[1;32m----> 3\u001b[0m \u001b[38;5;28;01mfor\u001b[39;00m i \u001b[38;5;129;01min\u001b[39;00m a:\n\u001b[0;32m      4\u001b[0m     b\u001b[38;5;241m.\u001b[39mappend(i)\n",
      "\u001b[1;31mTypeError\u001b[0m: 'int' object is not iterable"
     ]
    }
   ],
   "source": [
    "a = int(input())\n",
    "b = []\n",
    "for i in a:\n",
    "    b.append(i)\n"
   ]
  },
  {
   "cell_type": "code",
   "execution_count": 13,
   "id": "513d298c",
   "metadata": {
    "scrolled": false
   },
   "outputs": [
    {
     "name": "stdout",
     "output_type": "stream",
     "text": [
      "10\n"
     ]
    },
    {
     "ename": "TypeError",
     "evalue": "'int' object is not iterable",
     "output_type": "error",
     "traceback": [
      "\u001b[1;31m---------------------------------------------------------------------------\u001b[0m",
      "\u001b[1;31mTypeError\u001b[0m                                 Traceback (most recent call last)",
      "Input \u001b[1;32mIn [13]\u001b[0m, in \u001b[0;36m<cell line: 3>\u001b[1;34m()\u001b[0m\n\u001b[0;32m      1\u001b[0m a \u001b[38;5;241m=\u001b[39m \u001b[38;5;28mint\u001b[39m(\u001b[38;5;28minput\u001b[39m())\n\u001b[0;32m      2\u001b[0m b \u001b[38;5;241m=\u001b[39m []\n\u001b[1;32m----> 3\u001b[0m \u001b[38;5;28;01mfor\u001b[39;00m i \u001b[38;5;129;01min\u001b[39;00m a:\n\u001b[0;32m      4\u001b[0m     \u001b[38;5;28mprint\u001b[39m(i)\n\u001b[0;32m      5\u001b[0m     b\u001b[38;5;241m.\u001b[39mappend(i)\n",
      "\u001b[1;31mTypeError\u001b[0m: 'int' object is not iterable"
     ]
    }
   ],
   "source": [
    "a = int(input())\n",
    "b = []\n",
    "for i in a:\n",
    "    print(i)\n",
    "    b.append(i)\n",
    "print(b)"
   ]
  },
  {
   "cell_type": "code",
   "execution_count": 20,
   "id": "2f8d4b24",
   "metadata": {
    "scrolled": true
   },
   "outputs": [
    {
     "name": "stdout",
     "output_type": "stream",
     "text": [
      "10\n",
      "1\n",
      "2\n",
      "5\n",
      "10\n"
     ]
    }
   ],
   "source": [
    "a = int(input())\n",
    "b = []\n",
    "for i in range(1,a+1):\n",
    "    b.append(i)\n",
    "\n",
    "for i in b:\n",
    "    if a % i == 0:\n",
    "        print(i)\n"
   ]
  }
 ],
 "metadata": {
  "kernelspec": {
   "display_name": "Python 3 (ipykernel)",
   "language": "python",
   "name": "python3"
  },
  "language_info": {
   "codemirror_mode": {
    "name": "ipython",
    "version": 3
   },
   "file_extension": ".py",
   "mimetype": "text/x-python",
   "name": "python",
   "nbconvert_exporter": "python",
   "pygments_lexer": "ipython3",
   "version": "3.9.12"
  }
 },
 "nbformat": 4,
 "nbformat_minor": 5
}
