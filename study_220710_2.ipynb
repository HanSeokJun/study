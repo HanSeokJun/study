{
 "cells": [
  {
   "cell_type": "code",
   "execution_count": 60,
   "id": "3defe5d9",
   "metadata": {},
   "outputs": [
    {
     "name": "stdout",
     "output_type": "stream",
     "text": [
      "32\n",
      "1\n"
     ]
    }
   ],
   "source": [
    "length=64\n",
    "cnt=0\n",
    "sum_n = 0\n",
    "\n",
    "n=int(input())\n",
    "\n",
    "while (n <= 64) :\n",
    "\n",
    "    if (sum_n+length) <= n:\n",
    "        sum_n += length\n",
    "        cnt+=1\n",
    "    length /= 2\n",
    "\n",
    "    if sum_n == n :\n",
    "        break\n",
    "        \n",
    "if n > 64:\n",
    "    print(\"입력오류\")\n",
    "else:\n",
    "    print(cnt)"
   ]
  },
  {
   "cell_type": "code",
   "execution_count": 73,
   "id": "a12c66d2",
   "metadata": {},
   "outputs": [
    {
     "name": "stdout",
     "output_type": "stream",
     "text": [
      "23\n",
      "6\n"
     ]
    }
   ],
   "source": [
    "length=64\n",
    "cnt=0\n",
    "sum_n = 0\n",
    "\n",
    "n=int(input())\n",
    "\n",
    "while (n <= 64) :\n",
    "    if (length == n) | (sum_n == n) :\n",
    "        break\n",
    "    else:\n",
    "        length /= 2\n",
    "        cnt+=1\n",
    "\n",
    "    if not length > n:\n",
    "        if (sum_n+length) <= n:\n",
    "            sum_n += length\n",
    "\n",
    "if n > 64:\n",
    "    print(\"입력오류\")\n",
    "else:\n",
    "    print(cnt)\n"
   ]
  },
  {
   "cell_type": "code",
   "execution_count": 153,
   "id": "0b1f4c2a",
   "metadata": {},
   "outputs": [
    {
     "name": "stdout",
     "output_type": "stream",
     "text": [
      "27\n",
      "6\n"
     ]
    }
   ],
   "source": [
    "x = int(input())\n",
    "data = []\n",
    "cnt=-1\n",
    "\n",
    "for i in range(1,65):\n",
    "    if 64 % i == 0:\n",
    "        data.append(64/i)\n",
    "        if sum(data) > x:\n",
    "            data.pop()\n",
    "        cnt+=1\n",
    "    if sum(data) == x:\n",
    "        break\n",
    "\n",
    "print(cnt)"
   ]
  },
  {
   "cell_type": "code",
   "execution_count": 150,
   "id": "76f28acc",
   "metadata": {},
   "outputs": [
    {
     "name": "stdout",
     "output_type": "stream",
     "text": [
      "31\n",
      "6\n",
      "1.0\n",
      "5\n"
     ]
    }
   ],
   "source": [
    "x = int(input())\n",
    "data = []\n",
    "data1 = [64,32,16,8,4,2,1]\n",
    "for i in range(1,65):\n",
    "    if 64 % i == 0:\n",
    "        data.append(64/i)\n",
    "        if sum(data) > x:\n",
    "            data.pop()\n",
    "print(data1.index(data[-1]))\n",
    "print(data[-1])\n",
    "print(len(data))\n"
   ]
  }
 ],
 "metadata": {
  "kernelspec": {
   "display_name": "Python 3 (ipykernel)",
   "language": "python",
   "name": "python3"
  },
  "language_info": {
   "codemirror_mode": {
    "name": "ipython",
    "version": 3
   },
   "file_extension": ".py",
   "mimetype": "text/x-python",
   "name": "python",
   "nbconvert_exporter": "python",
   "pygments_lexer": "ipython3",
   "version": "3.9.12"
  }
 },
 "nbformat": 4,
 "nbformat_minor": 5
}
